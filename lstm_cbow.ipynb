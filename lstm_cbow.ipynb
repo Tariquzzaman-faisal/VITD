{
  "cells": [
    {
      "cell_type": "markdown",
      "metadata": {
        "id": "view-in-github",
        "colab_type": "text"
      },
      "source": [
        "<a href=\"https://colab.research.google.com/github/Tariquzzaman-faisal/VITD/blob/main/lstm_cbow.ipynb\" target=\"_parent\"><img src=\"https://colab.research.google.com/assets/colab-badge.svg\" alt=\"Open In Colab\"/></a>"
      ]
    },
    {
      "cell_type": "markdown",
      "metadata": {
        "id": "rf89yMm_gbyH"
      },
      "source": [
        "# Mounting to drive"
      ]
    },
    {
      "cell_type": "code",
      "execution_count": null,
      "metadata": {
        "colab": {
          "base_uri": "https://localhost:8080/"
        },
        "id": "mDgsHOADgeUD",
        "outputId": "4260771a-be04-4411-db07-66eaa55e1898"
      },
      "outputs": [
        {
          "output_type": "stream",
          "name": "stdout",
          "text": [
            "Mounted at /content/drive\n"
          ]
        }
      ],
      "source": [
        "from google.colab import drive\n",
        "drive.mount('/content/drive')"
      ]
    },
    {
      "cell_type": "markdown",
      "metadata": {
        "id": "7FYGAXXtgVtT"
      },
      "source": [
        "# Imports"
      ]
    },
    {
      "cell_type": "code",
      "execution_count": null,
      "metadata": {
        "colab": {
          "base_uri": "https://localhost:8080/"
        },
        "id": "sbFVYInVgwSY",
        "outputId": "3f433639-4941-4ab5-d52c-efeac3c9bb3c"
      },
      "outputs": [
        {
          "output_type": "stream",
          "name": "stdout",
          "text": [
            "Requirement already satisfied: tensorflow in /usr/local/lib/python3.10/dist-packages (2.13.0)\n",
            "Requirement already satisfied: absl-py>=1.0.0 in /usr/local/lib/python3.10/dist-packages (from tensorflow) (1.4.0)\n",
            "Requirement already satisfied: astunparse>=1.6.0 in /usr/local/lib/python3.10/dist-packages (from tensorflow) (1.6.3)\n",
            "Requirement already satisfied: flatbuffers>=23.1.21 in /usr/local/lib/python3.10/dist-packages (from tensorflow) (23.5.26)\n",
            "Requirement already satisfied: gast<=0.4.0,>=0.2.1 in /usr/local/lib/python3.10/dist-packages (from tensorflow) (0.4.0)\n",
            "Requirement already satisfied: google-pasta>=0.1.1 in /usr/local/lib/python3.10/dist-packages (from tensorflow) (0.2.0)\n",
            "Requirement already satisfied: grpcio<2.0,>=1.24.3 in /usr/local/lib/python3.10/dist-packages (from tensorflow) (1.57.0)\n",
            "Requirement already satisfied: h5py>=2.9.0 in /usr/local/lib/python3.10/dist-packages (from tensorflow) (3.9.0)\n",
            "Requirement already satisfied: keras<2.14,>=2.13.1 in /usr/local/lib/python3.10/dist-packages (from tensorflow) (2.13.1)\n",
            "Requirement already satisfied: libclang>=13.0.0 in /usr/local/lib/python3.10/dist-packages (from tensorflow) (16.0.6)\n",
            "Requirement already satisfied: numpy<=1.24.3,>=1.22 in /usr/local/lib/python3.10/dist-packages (from tensorflow) (1.23.5)\n",
            "Requirement already satisfied: opt-einsum>=2.3.2 in /usr/local/lib/python3.10/dist-packages (from tensorflow) (3.3.0)\n",
            "Requirement already satisfied: packaging in /usr/local/lib/python3.10/dist-packages (from tensorflow) (23.1)\n",
            "Requirement already satisfied: protobuf!=4.21.0,!=4.21.1,!=4.21.2,!=4.21.3,!=4.21.4,!=4.21.5,<5.0.0dev,>=3.20.3 in /usr/local/lib/python3.10/dist-packages (from tensorflow) (3.20.3)\n",
            "Requirement already satisfied: setuptools in /usr/local/lib/python3.10/dist-packages (from tensorflow) (67.7.2)\n",
            "Requirement already satisfied: six>=1.12.0 in /usr/local/lib/python3.10/dist-packages (from tensorflow) (1.16.0)\n",
            "Requirement already satisfied: tensorboard<2.14,>=2.13 in /usr/local/lib/python3.10/dist-packages (from tensorflow) (2.13.0)\n",
            "Requirement already satisfied: tensorflow-estimator<2.14,>=2.13.0 in /usr/local/lib/python3.10/dist-packages (from tensorflow) (2.13.0)\n",
            "Requirement already satisfied: termcolor>=1.1.0 in /usr/local/lib/python3.10/dist-packages (from tensorflow) (2.3.0)\n",
            "Requirement already satisfied: typing-extensions<4.6.0,>=3.6.6 in /usr/local/lib/python3.10/dist-packages (from tensorflow) (4.5.0)\n",
            "Requirement already satisfied: wrapt>=1.11.0 in /usr/local/lib/python3.10/dist-packages (from tensorflow) (1.15.0)\n",
            "Requirement already satisfied: tensorflow-io-gcs-filesystem>=0.23.1 in /usr/local/lib/python3.10/dist-packages (from tensorflow) (0.33.0)\n",
            "Requirement already satisfied: wheel<1.0,>=0.23.0 in /usr/local/lib/python3.10/dist-packages (from astunparse>=1.6.0->tensorflow) (0.41.2)\n",
            "Requirement already satisfied: google-auth<3,>=1.6.3 in /usr/local/lib/python3.10/dist-packages (from tensorboard<2.14,>=2.13->tensorflow) (2.17.3)\n",
            "Requirement already satisfied: google-auth-oauthlib<1.1,>=0.5 in /usr/local/lib/python3.10/dist-packages (from tensorboard<2.14,>=2.13->tensorflow) (1.0.0)\n",
            "Requirement already satisfied: markdown>=2.6.8 in /usr/local/lib/python3.10/dist-packages (from tensorboard<2.14,>=2.13->tensorflow) (3.4.4)\n",
            "Requirement already satisfied: requests<3,>=2.21.0 in /usr/local/lib/python3.10/dist-packages (from tensorboard<2.14,>=2.13->tensorflow) (2.31.0)\n",
            "Requirement already satisfied: tensorboard-data-server<0.8.0,>=0.7.0 in /usr/local/lib/python3.10/dist-packages (from tensorboard<2.14,>=2.13->tensorflow) (0.7.1)\n",
            "Requirement already satisfied: werkzeug>=1.0.1 in /usr/local/lib/python3.10/dist-packages (from tensorboard<2.14,>=2.13->tensorflow) (2.3.7)\n",
            "Requirement already satisfied: cachetools<6.0,>=2.0.0 in /usr/local/lib/python3.10/dist-packages (from google-auth<3,>=1.6.3->tensorboard<2.14,>=2.13->tensorflow) (5.3.1)\n",
            "Requirement already satisfied: pyasn1-modules>=0.2.1 in /usr/local/lib/python3.10/dist-packages (from google-auth<3,>=1.6.3->tensorboard<2.14,>=2.13->tensorflow) (0.3.0)\n",
            "Requirement already satisfied: rsa<5,>=3.1.4 in /usr/local/lib/python3.10/dist-packages (from google-auth<3,>=1.6.3->tensorboard<2.14,>=2.13->tensorflow) (4.9)\n",
            "Requirement already satisfied: requests-oauthlib>=0.7.0 in /usr/local/lib/python3.10/dist-packages (from google-auth-oauthlib<1.1,>=0.5->tensorboard<2.14,>=2.13->tensorflow) (1.3.1)\n",
            "Requirement already satisfied: charset-normalizer<4,>=2 in /usr/local/lib/python3.10/dist-packages (from requests<3,>=2.21.0->tensorboard<2.14,>=2.13->tensorflow) (3.2.0)\n",
            "Requirement already satisfied: idna<4,>=2.5 in /usr/local/lib/python3.10/dist-packages (from requests<3,>=2.21.0->tensorboard<2.14,>=2.13->tensorflow) (3.4)\n",
            "Requirement already satisfied: urllib3<3,>=1.21.1 in /usr/local/lib/python3.10/dist-packages (from requests<3,>=2.21.0->tensorboard<2.14,>=2.13->tensorflow) (2.0.4)\n",
            "Requirement already satisfied: certifi>=2017.4.17 in /usr/local/lib/python3.10/dist-packages (from requests<3,>=2.21.0->tensorboard<2.14,>=2.13->tensorflow) (2023.7.22)\n",
            "Requirement already satisfied: MarkupSafe>=2.1.1 in /usr/local/lib/python3.10/dist-packages (from werkzeug>=1.0.1->tensorboard<2.14,>=2.13->tensorflow) (2.1.3)\n",
            "Requirement already satisfied: pyasn1<0.6.0,>=0.4.6 in /usr/local/lib/python3.10/dist-packages (from pyasn1-modules>=0.2.1->google-auth<3,>=1.6.3->tensorboard<2.14,>=2.13->tensorflow) (0.5.0)\n",
            "Requirement already satisfied: oauthlib>=3.0.0 in /usr/local/lib/python3.10/dist-packages (from requests-oauthlib>=0.7.0->google-auth-oauthlib<1.1,>=0.5->tensorboard<2.14,>=2.13->tensorflow) (3.2.2)\n"
          ]
        }
      ],
      "source": [
        "!pip install tensorflow"
      ]
    },
    {
      "cell_type": "code",
      "execution_count": null,
      "metadata": {
        "id": "AWCQk7fNWJfU"
      },
      "outputs": [],
      "source": [
        "# !pip install fasttext"
      ]
    },
    {
      "cell_type": "code",
      "execution_count": null,
      "metadata": {
        "id": "rr5qk44rXZG8"
      },
      "outputs": [],
      "source": [
        "from keras.preprocessing.text import Tokenizer\n",
        "from keras.preprocessing import sequence\n",
        "from tensorflow.keras.preprocessing.sequence import pad_sequences\n",
        "\n",
        "from keras.models import Sequential, Model\n",
        "from keras.layers import Dense, Dropout, Embedding, LSTM, Bidirectional, GlobalMaxPool1D, Input, Flatten, MaxPooling1D, SpatialDropout1D, Activation\n",
        "\n",
        "from keras.callbacks import EarlyStopping\n",
        "\n",
        "from numpy import array\n",
        "from sklearn.metrics import classification_report\n",
        "\n",
        "import gensim\n",
        "from gensim import models\n",
        "from gensim.models import Word2Vec\n",
        "# import fasttext.util\n",
        "import pandas as pd\n",
        "import numpy as np"
      ]
    },
    {
      "cell_type": "markdown",
      "metadata": {
        "id": "2m4VJe4ZgZ48"
      },
      "source": [
        "# Loading Model"
      ]
    },
    {
      "cell_type": "code",
      "execution_count": null,
      "metadata": {
        "id": "Ensf0hEagXMJ"
      },
      "outputs": [],
      "source": [
        "# fasttext_model = fasttext.load_model(\"/content/drive/MyDrive/Research/Shared Task/Violence Inciting Text Detection (VITD) Bangla/notebooks/Tariq/fasttext/model_bn_300.bin\")"
      ]
    },
    {
      "cell_type": "markdown",
      "metadata": {
        "id": "3NJaX8jdjTOy"
      },
      "source": [
        "# Load Dataset"
      ]
    },
    {
      "cell_type": "code",
      "execution_count": null,
      "metadata": {
        "id": "rW3pzWRujWej"
      },
      "outputs": [],
      "source": [
        "train_dataset = pd.read_csv(\"/content/drive/MyDrive/Research/Shared Task/Violence Inciting Text Detection (VITD) Bangla/dataset/task datasets/original/train.csv\")\n",
        "val_dataset = pd.read_csv(\"/content/drive/MyDrive/Research/Shared Task/Violence Inciting Text Detection (VITD) Bangla/dataset/task datasets/original/dev.csv\")\n",
        "test_dataset = pd.read_csv(\"/content/drive/MyDrive/Research/Shared Task/Violence Inciting Text Detection (VITD) Bangla/dataset/task datasets/original/test.csv\")"
      ]
    },
    {
      "cell_type": "code",
      "execution_count": null,
      "metadata": {
        "colab": {
          "base_uri": "https://localhost:8080/"
        },
        "id": "iUyj7RqZeM8X",
        "outputId": "d6e517b1-4bcf-46b2-f93f-c417129bc622"
      },
      "outputs": [
        {
          "output_type": "stream",
          "name": "stdout",
          "text": [
            "train: (2700, 2)\n",
            "val: (1330, 2)\n",
            "test: (2016, 2)\n"
          ]
        }
      ],
      "source": [
        "print(f'train: {train_dataset.shape}\\nval: {val_dataset.shape}\\ntest: {test_dataset.shape}')"
      ]
    },
    {
      "cell_type": "markdown",
      "metadata": {
        "id": "rYLLzWUhe5eo"
      },
      "source": [
        "# Oversampling"
      ]
    },
    {
      "cell_type": "code",
      "execution_count": null,
      "metadata": {
        "colab": {
          "base_uri": "https://localhost:8080/"
        },
        "id": "UYfQsmQ9fTX9",
        "outputId": "7e6d8808-0a84-467e-ad94-9838376fb299"
      },
      "outputs": [
        {
          "output_type": "execute_result",
          "data": {
            "text/plain": [
              "0    1389\n",
              "1     922\n",
              "2     389\n",
              "Name: label, dtype: int64"
            ]
          },
          "metadata": {},
          "execution_count": 9
        }
      ],
      "source": [
        "train_dataset['label'].value_counts()"
      ]
    },
    {
      "cell_type": "code",
      "execution_count": null,
      "metadata": {
        "id": "m8v7aCe3e7vQ"
      },
      "outputs": [],
      "source": [
        "# # Find the maximum class frequency\n",
        "# max_class_frequency = train_dataset['label'].value_counts().max()\n",
        "\n",
        "# # Group the dataset by labels\n",
        "# grouped = train_dataset.groupby('label')\n",
        "\n",
        "# resampled_data = []\n",
        "# for label, group in grouped:\n",
        "#     if len(group) < max_class_frequency:\n",
        "#         oversampled_group = group.sample(max_class_frequency, replace=True, random_state=42)\n",
        "#         resampled_data.append(oversampled_group)\n",
        "#     else:\n",
        "#         resampled_data.append(group)\n",
        "\n",
        "# # Concatenate the resampled groups to create the balanced dataset\n",
        "# balanced_dataset = pd.concat(resampled_data)\n",
        "\n",
        "# # Shuffle the dataset to ensure randomness\n",
        "# balanced_dataset = balanced_dataset.sample(frac=1, random_state=42).reset_index(drop=True)"
      ]
    },
    {
      "cell_type": "code",
      "execution_count": null,
      "metadata": {
        "id": "32UXKLoVr-Bj"
      },
      "outputs": [],
      "source": [
        "# grouped.head()"
      ]
    },
    {
      "cell_type": "code",
      "execution_count": null,
      "metadata": {
        "id": "UQ7n-ugOfDCZ"
      },
      "outputs": [],
      "source": [
        "# balanced_dataset.shape"
      ]
    },
    {
      "cell_type": "code",
      "execution_count": null,
      "metadata": {
        "id": "Olrq-2mifHmS"
      },
      "outputs": [],
      "source": [
        "# balanced_dataset['label'].value_counts()"
      ]
    },
    {
      "cell_type": "code",
      "execution_count": null,
      "metadata": {
        "id": "9adUQHGkfYYX"
      },
      "outputs": [],
      "source": [
        "# train_dataset = balanced_dataset\n",
        "# train_dataset['label'].value_counts()"
      ]
    },
    {
      "cell_type": "code",
      "execution_count": null,
      "metadata": {
        "id": "ljHyTfRMkn_R"
      },
      "outputs": [],
      "source": [
        "train_x = train_dataset['text']\n",
        "train_y = train_dataset['label']\n",
        "\n",
        "val_x = val_dataset['text']\n",
        "val_y = val_dataset['label']\n",
        "\n",
        "test_x = test_dataset['text']\n",
        "test_y = test_dataset['label']"
      ]
    },
    {
      "cell_type": "markdown",
      "metadata": {
        "id": "giMvXGrki5KU"
      },
      "source": [
        "# Embedding Setup"
      ]
    },
    {
      "cell_type": "code",
      "execution_count": null,
      "metadata": {
        "id": "EXsyLO_IXBMM"
      },
      "outputs": [],
      "source": [
        "tokenizer=Tokenizer(oov_token = \"<OOV>\", split=' ') # Splitting text based on whitespace and adding \"Out of vocabulary\"\n",
        "tokenizer.fit_on_texts(train_x) # Using the tokenizer on out train dataset to tokenize the train dataset\n",
        "train_encoded=tokenizer.texts_to_sequences(train_x)"
      ]
    },
    {
      "cell_type": "code",
      "execution_count": null,
      "metadata": {
        "id": "t8BEb_BT9_42"
      },
      "outputs": [],
      "source": [
        "train_padded= pad_sequences(train_encoded, padding='post',  maxlen=256)"
      ]
    },
    {
      "cell_type": "code",
      "execution_count": null,
      "metadata": {
        "id": "Y15B1vSB8NYM"
      },
      "outputs": [],
      "source": [
        "# padding df_validation\n",
        "val_encoded=tokenizer.texts_to_sequences(val_x)\n",
        "val_padded= pad_sequences(val_encoded, padding='post', maxlen=train_padded.shape[1])"
      ]
    },
    {
      "cell_type": "code",
      "execution_count": null,
      "metadata": {
        "id": "esuETwIM95zx"
      },
      "outputs": [],
      "source": [
        "# padding df_validation\n",
        "test_encoded=tokenizer.texts_to_sequences(test_x)\n",
        "test_padded= pad_sequences(test_encoded, padding='post', maxlen=train_padded.shape[1])"
      ]
    },
    {
      "cell_type": "code",
      "execution_count": null,
      "metadata": {
        "id": "zZqz5UyxAMdp"
      },
      "outputs": [],
      "source": [
        "# # function that takes word vector as input and returned an embedding layer\n",
        "# def embedding_creation(EMBEDDING_DIM, word_vectors):\n",
        "#   vocabulary_size=len(tokenizer.word_index)+1\n",
        "#   word_index=tokenizer.word_index\n",
        "#   embedding_matrix = np.zeros((vocabulary_size, EMBEDDING_DIM))\n",
        "\n",
        "#   for word, i in word_index.items():\n",
        "#     try:\n",
        "#       embedding_vector=word_vectors[word] # taking the word vector of all the words in the index\n",
        "#       embedding_matrix[i]=embedding_vector # inserting the vector of the word to the embeddings matrix,  index wise\n",
        "#     except KeyError:\n",
        "#       embedding_matrix[i]=np.random.normal(0,np.sqrt(0.25),EMBEDDING_DIM)\n",
        "#       \"\"\"\n",
        "#       The strategy of generating random vectors for missing words (KeyError)\n",
        "#       in the embedding matrix is useful because it provides a way to\n",
        "#       include out-of-vocabulary words in the representation,\n",
        "#         prevents loss of information, helps with stable training, and\n",
        "#         ensures a complete embedding matrix for neural network models.\n",
        "#       \"\"\"\n",
        "#   embedding_layer=Embedding(vocabulary_size, EMBEDDING_DIM, weights=[embedding_matrix], trainable=False)\n",
        "\n",
        "#   return embedding_layer"
      ]
    },
    {
      "cell_type": "code",
      "execution_count": null,
      "metadata": {
        "id": "aQWBEGLNXGGS"
      },
      "outputs": [],
      "source": [
        "# EMBEDDING_DIM = 300\n",
        "# wv = fasttext_model\n",
        "# IFT = embedding_creation(EMBEDDING_DIM, wv)\n",
        "# # gets the embedding layer from the word vectors using EMBEDDING_DIM as dim size"
      ]
    },
    {
      "cell_type": "code",
      "execution_count": null,
      "metadata": {
        "id": "I50cEoD6llk1"
      },
      "outputs": [],
      "source": [
        "# max_length = train_padded.shape[1]\n",
        "# vocabulary_size = len(tokenizer.word_index) + 1\n",
        "# # creating a randomly initialized embedding layer (RE)\n",
        "# RE = Embedding(vocabulary_size, EMBEDDING_DIM,input_length = max_length, trainable=True)"
      ]
    },
    {
      "cell_type": "markdown",
      "metadata": {
        "id": "H8I5NkrOmKWA"
      },
      "source": [
        "# Early Stopping"
      ]
    },
    {
      "cell_type": "code",
      "execution_count": null,
      "metadata": {
        "id": "v3unBndBmL5x"
      },
      "outputs": [],
      "source": [
        "earlystop_callback = EarlyStopping(\n",
        "    monitor=\"val_loss\",\n",
        "    min_delta=0,\n",
        "    patience=6,\n",
        "    verbose=1,\n",
        "    mode=\"min\",\n",
        "    restore_best_weights=True,\n",
        ")"
      ]
    },
    {
      "cell_type": "code",
      "execution_count": null,
      "metadata": {
        "id": "Fg7gJW-pmYfy"
      },
      "outputs": [],
      "source": [
        "# emb_X_name_collection = [ [IFT, 'IFT']]"
      ]
    },
    {
      "cell_type": "markdown",
      "metadata": {
        "id": "kHJOgEjQmV0g"
      },
      "source": [
        "# Model Configuration Orignal"
      ]
    },
    {
      "cell_type": "code",
      "execution_count": null,
      "metadata": {
        "colab": {
          "base_uri": "https://localhost:8080/"
        },
        "id": "KjgoW5ijbNdc",
        "outputId": "5ae8e406-4c60-4edf-877b-15eb890c53db"
      },
      "outputs": [
        {
          "output_type": "stream",
          "name": "stdout",
          "text": [
            "Requirement already satisfied: keras in /usr/local/lib/python3.10/dist-packages (2.13.1)\n"
          ]
        }
      ],
      "source": [
        "!pip install keras"
      ]
    },
    {
      "cell_type": "code",
      "execution_count": null,
      "metadata": {
        "id": "BCgZ0F0fcsT1"
      },
      "outputs": [],
      "source": [
        "from tensorflow.keras.layers import Layer, Embedding, Bidirectional, LSTM, GlobalMaxPool1D, Dense, GlobalAveragePooling1D\n",
        "from tensorflow.keras.models import Sequential\n",
        "import tensorflow.keras.backend as K"
      ]
    },
    {
      "cell_type": "code",
      "execution_count": null,
      "metadata": {
        "id": "nWCGrAlIOslc"
      },
      "outputs": [],
      "source": [
        "class attention(Layer):\n",
        "    def __init__(self,**kwargs):\n",
        "        super(attention,self).__init__(**kwargs)\n",
        "\n",
        "    def build(self,input_shape):\n",
        "        self.W=self.add_weight(name=\"att_weight\",shape=(input_shape[-1],1),initializer=\"normal\")\n",
        "        super(attention, self).build(input_shape)\n",
        "\n",
        "    def call(self,x):\n",
        "        et=K.squeeze(K.tanh(K.dot(x,self.W)),axis=-1)\n",
        "        at=K.softmax(et)\n",
        "        at=K.expand_dims(at,axis=-1)\n",
        "        output=x*at\n",
        "        return K.sum(output,axis=1)\n",
        "\n",
        "    def compute_output_shape(self,input_shape):\n",
        "        return (input_shape[0],input_shape[-1])\n",
        "\n",
        "    def get_config(self):\n",
        "        return super(attention,self).get_config()\n"
      ]
    },
    {
      "cell_type": "code",
      "execution_count": null,
      "metadata": {
        "id": "5w7lQ-fUPTB4"
      },
      "outputs": [],
      "source": [
        "# num_classes = 3\n",
        "# # Loop through each embedding layer and create models with attention\n",
        "# for emb_X_name in emb_X_name_collection:\n",
        "#     model = Sequential([\n",
        "#         emb_X_name[0],\n",
        "#         Bidirectional(LSTM(128, dropout=0.3, return_sequences=True)),\n",
        "#         attention(),\n",
        "#         Dense(16, activation='relu'),\n",
        "#         Dense(num_classes, activation='softmax'),  # Use softmax for multi-class classification\n",
        "#     ],\n",
        "#     name=\"Sentiment_Model\")\n",
        "#     model.compile(loss='sparse_categorical_crossentropy', optimizer='adam', metrics=['accuracy'])\n"
      ]
    },
    {
      "cell_type": "code",
      "execution_count": null,
      "metadata": {
        "id": "CYE1I5WMnrVF"
      },
      "outputs": [],
      "source": [
        "# from tensorflow.keras.layers import Embedding, Bidirectional, LSTM, GlobalMaxPool1D, Dense\n",
        "# from tensorflow.keras.models import Sequential\n",
        "# from tensorflow.keras.optimizers import Adam\n",
        "\n",
        "# num_classes = 3\n",
        "# learning_rate = 0.001  # Adjust the learning rate as needed\n",
        "# EMB_DIM = 300\n",
        "# max_len = train_padded.shape[1]\n",
        "# vocabulary_size=len(tokenizer.word_index)+1\n",
        "# # model = Sequential([\n",
        "# #     Embedding(input_dim = vocabulary_size, output_dim = EMB_DIM, input_length = max_len),\n",
        "# #     LSTM(150, dropout=0.3, return_sequences=True),\n",
        "# #     Dense(16, activation = 'relu'),\n",
        "# #     Dense(num_classes, activation='softmax')\n",
        "# # ], name=\"BiLSTM_no_FT\")\n",
        "\n",
        "# # optimizer = Adam(learning_rate=learning_rate)  # Set the learning rate for the optimizer\n",
        "\n",
        "# # model.compile(loss='sparse_categorical_crossentropy', optimizer=optimizer, metrics=['accuracy'])"
      ]
    },
    {
      "cell_type": "code",
      "execution_count": null,
      "metadata": {
        "id": "2_6wJ5JeAokQ"
      },
      "outputs": [],
      "source": [
        "# model = Sequential()\n",
        "# model.add(Embedding(input_dim=len(tokenizer.word_index) + 1, output_dim=300, input_length=max_len))\n",
        "# model.add(LSTM(150, dropout=0.3, return_sequences=True))\n",
        "# # model.add(attention()),\n",
        "# model.add(GlobalMaxPool1D())\n",
        "# model.add(Dense(32, activation='relu'))\n",
        "# model.add(Dense(3, activation='softmax'))  # Assuming 3 classes (0, 1, 2)\n",
        "\n",
        "# model.compile(optimizer='adam', loss='sparse_categorical_crossentropy', metrics=['accuracy'])"
      ]
    },
    {
      "cell_type": "code",
      "execution_count": null,
      "metadata": {
        "id": "vX5rtVMDiNzE"
      },
      "outputs": [],
      "source": [
        "from tensorflow.keras.layers import Embedding, Lambda, Dense\n",
        "from tensorflow.keras.models import Sequential\n",
        "from tensorflow.keras.optimizers import Adam\n",
        "import tensorflow.keras.backend as K  # Import Keras backend for the Lambda layer\n",
        "import numpy as np\n",
        "\n",
        "# Assuming you have already tokenized and padded your text data\n",
        "# X_train_padded and y_train should contain the padded sequences and labels, respectively\n",
        "# You also need the tokenizer and vocab_size as defined in your original code\n",
        "\n",
        "# Hyperparameters\n",
        "vocab_size = len(tokenizer.word_index) + 1\n",
        "embedding_dim = 300\n",
        "window_size = 2  # Context window size\n",
        "lstm_units = 150\n",
        "dense_units = 32\n",
        "num_classes = 3  # Assuming 3 classes (0, 1, 2)\n",
        "learning_rate = 0.001  # Learning rate\n",
        "max_len = train_padded.shape[1]\n",
        "\n",
        "model = Sequential()\n",
        "model.add(Embedding(input_dim=vocab_size, output_dim=embedding_dim, input_length=max_len))\n",
        "\n",
        "# Define a Lambda layer to average the word embeddings within the context window\n",
        "# model.add(Lambda(lambda x: K.mean(x, axis=1), output_shape=(embedding_dim,)))\n",
        "model.add(GlobalMaxPool1D())\n",
        "model.add(Dense(dense_units, activation='relu'))\n",
        "model.add(Dense(num_classes, activation='softmax'))\n",
        "\n",
        "# Add the learning rate to the Adam optimizer\n",
        "optimizer = Adam(learning_rate=learning_rate)\n",
        "\n",
        "model.compile(optimizer=optimizer,\n",
        "              loss='sparse_categorical_crossentropy',\n",
        "              metrics=['accuracy'])"
      ]
    },
    {
      "cell_type": "markdown",
      "metadata": {
        "id": "uz843Nf_mlVo"
      },
      "source": [
        "# Training"
      ]
    },
    {
      "cell_type": "code",
      "source": [
        "history = model.fit(train_padded, train_y, epochs=100, batch_size=32, validation_data=(val_padded, val_y), callbacks=[earlystop_callback])\n"
      ],
      "metadata": {
        "colab": {
          "base_uri": "https://localhost:8080/"
        },
        "id": "OtjYi8V1B2IM",
        "outputId": "5769597a-f884-4786-ddc4-5b9f6da9f444"
      },
      "execution_count": null,
      "outputs": [
        {
          "output_type": "stream",
          "name": "stdout",
          "text": [
            "Epoch 1/100\n",
            "85/85 [==============================] - 32s 320ms/step - loss: 0.9812 - accuracy: 0.5204 - val_loss: 0.9203 - val_accuracy: 0.5677\n",
            "Epoch 2/100\n",
            "85/85 [==============================] - 13s 158ms/step - loss: 0.7998 - accuracy: 0.6570 - val_loss: 0.7776 - val_accuracy: 0.6647\n",
            "Epoch 3/100\n",
            "85/85 [==============================] - 7s 83ms/step - loss: 0.5108 - accuracy: 0.8141 - val_loss: 0.6868 - val_accuracy: 0.7045\n",
            "Epoch 4/100\n",
            "85/85 [==============================] - 7s 78ms/step - loss: 0.2390 - accuracy: 0.9489 - val_loss: 0.6801 - val_accuracy: 0.7098\n",
            "Epoch 5/100\n",
            "85/85 [==============================] - 3s 40ms/step - loss: 0.0997 - accuracy: 0.9826 - val_loss: 0.7091 - val_accuracy: 0.7150\n",
            "Epoch 6/100\n",
            "85/85 [==============================] - 3s 36ms/step - loss: 0.0418 - accuracy: 0.9959 - val_loss: 0.7456 - val_accuracy: 0.7135\n",
            "Epoch 7/100\n",
            "85/85 [==============================] - 4s 51ms/step - loss: 0.0206 - accuracy: 0.9981 - val_loss: 0.7669 - val_accuracy: 0.7135\n",
            "Epoch 8/100\n",
            "85/85 [==============================] - 3s 34ms/step - loss: 0.0118 - accuracy: 0.9989 - val_loss: 0.7849 - val_accuracy: 0.7165\n",
            "Epoch 9/100\n",
            "85/85 [==============================] - 3s 33ms/step - loss: 0.0071 - accuracy: 1.0000 - val_loss: 0.8121 - val_accuracy: 0.7150\n",
            "Epoch 10/100\n",
            "85/85 [==============================] - ETA: 0s - loss: 0.0048 - accuracy: 1.0000Restoring model weights from the end of the best epoch: 4.\n",
            "85/85 [==============================] - 1s 12ms/step - loss: 0.0048 - accuracy: 1.0000 - val_loss: 0.8315 - val_accuracy: 0.7158\n",
            "Epoch 10: early stopping\n"
          ]
        }
      ]
    },
    {
      "cell_type": "code",
      "execution_count": null,
      "metadata": {
        "id": "eoHKGgEupl-2",
        "colab": {
          "base_uri": "https://localhost:8080/"
        },
        "outputId": "f0bb723f-b41d-4254-ec28-a37bc78c3297"
      },
      "outputs": [
        {
          "output_type": "stream",
          "name": "stdout",
          "text": [
            "63/63 [==============================] - 0s 2ms/step\n"
          ]
        }
      ],
      "source": [
        "prediction = model.predict(test_padded)\n",
        "\n",
        "p = []\n",
        "for i in range(len(prediction)):\n",
        "    a = []\n",
        "    for j in range(3):\n",
        "        a.append(round(prediction[i][j]))\n",
        "    p.append(a)\n"
      ]
    },
    {
      "cell_type": "code",
      "execution_count": null,
      "metadata": {
        "id": "OC4iGktnquoj"
      },
      "outputs": [],
      "source": [
        "# prediction"
      ]
    },
    {
      "cell_type": "code",
      "execution_count": null,
      "metadata": {
        "id": "AaoY93Hwr-Bo"
      },
      "outputs": [],
      "source": [
        "# Determine the maximum column index for each row\n",
        "max_indices = np.argmax(p, axis=1)\n",
        "\n",
        "# Create a DataFrame with the max_indices\n",
        "pred_labels = pd.DataFrame({'Value': max_indices})"
      ]
    },
    {
      "cell_type": "code",
      "execution_count": null,
      "metadata": {
        "id": "87NCc7M8sDFi"
      },
      "outputs": [],
      "source": [
        "# pred_labels"
      ]
    },
    {
      "cell_type": "code",
      "execution_count": null,
      "metadata": {
        "id": "dQPjc_zFqVcl"
      },
      "outputs": [],
      "source": [
        "from sklearn.metrics import classification_report\n",
        "\n",
        "target_names = ['neutral', 'passive', 'direct']\n",
        "r = classification_report(test_y, pred_labels, output_dict=True)"
      ]
    },
    {
      "cell_type": "code",
      "execution_count": null,
      "metadata": {
        "id": "euOPNsvGr1KN"
      },
      "outputs": [],
      "source": [
        "# r"
      ]
    },
    {
      "cell_type": "code",
      "execution_count": null,
      "metadata": {
        "id": "RHn57ZNOsQ22",
        "colab": {
          "base_uri": "https://localhost:8080/"
        },
        "outputId": "b4cdbce1-da8e-422f-9b04-fbc2e1d4d674"
      },
      "outputs": [
        {
          "output_type": "stream",
          "name": "stdout",
          "text": [
            "              precision    recall  f1-score      support\n",
            "0              0.692308  0.919708  0.789969  1096.000000\n",
            "1              0.799007  0.447844  0.573975   719.000000\n",
            "2              0.624204  0.487562  0.547486   201.000000\n",
            "accuracy       0.708333  0.708333  0.708333     0.708333\n",
            "macro avg      0.705173  0.618371  0.637143  2016.000000\n",
            "weighted avg   0.723572  0.708333  0.688759  2016.000000\n"
          ]
        }
      ],
      "source": [
        "df = pd.DataFrame(r)\n",
        "\n",
        "# Transpose the DataFrame\n",
        "df = df.transpose()\n",
        "\n",
        "print(df)"
      ]
    },
    {
      "cell_type": "code",
      "execution_count": null,
      "metadata": {
        "id": "eZ5xHBbDaF0a",
        "colab": {
          "base_uri": "https://localhost:8080/",
          "height": 406
        },
        "outputId": "aa6ecec9-4a7f-40a5-d9b9-812871644ba2"
      },
      "outputs": [
        {
          "output_type": "execute_result",
          "data": {
            "text/plain": [
              "<matplotlib.legend.Legend at 0x7c6b1de9fb50>"
            ]
          },
          "metadata": {},
          "execution_count": 40
        },
        {
          "output_type": "display_data",
          "data": {
            "text/plain": [
              "<Figure size 1200x400 with 1 Axes>"
            ],
            "image/png": "[encoded data removed]"
          },
          "metadata": {}
        }
      ],
      "source": [
        "import matplotlib.pyplot as plt\n",
        "# Plot the training history\n",
        "plt.figure(figsize=(12, 4))\n",
        "\n",
        "# Plot Loss\n",
        "plt.subplot(1, 2, 1)\n",
        "plt.plot(history.history['loss'], label='Training Loss')\n",
        "plt.plot(history.history['val_loss'], label='Validation Loss')\n",
        "plt.xlabel('Epoch')\n",
        "plt.ylabel('Loss')\n",
        "plt.legend()\n"
      ]
    },
    {
      "cell_type": "code",
      "execution_count": null,
      "metadata": {
        "id": "x1j-sx50xXrz",
        "colab": {
          "base_uri": "https://localhost:8080/",
          "height": 487
        },
        "outputId": "1582caa5-6aa5-4949-cb52-3c8b36df59d6"
      },
      "outputs": [
        {
          "output_type": "display_data",
          "data": {
            "text/plain": [
              "<Figure size 640x480 with 1 Axes>"
            ],
            "image/png": "[encoded data removed]"
          },
          "metadata": {}
        }
      ],
      "source": [
        "# Plot Accuracy\n",
        "plt.subplot(1, 2, 2)\n",
        "plt.plot(history.history['accuracy'], label='Training Accuracy')\n",
        "plt.plot(history.history['val_accuracy'], label='Validation Accuracy')\n",
        "plt.xlabel('Epoch')\n",
        "plt.ylabel('Accuracy')\n",
        "plt.legend()\n",
        "\n",
        "plt.tight_layout()\n",
        "plt.show()"
      ]
    },
    {
      "cell_type": "code",
      "execution_count": null,
      "metadata": {
        "id": "cPMhehhukp2J",
        "colab": {
          "base_uri": "https://localhost:8080/"
        },
        "outputId": "b050572c-652b-49d1-a17a-52962482b5ba"
      },
      "outputs": [
        {
          "output_type": "stream",
          "name": "stderr",
          "text": [
            "/usr/local/lib/python3.10/dist-packages/keras/src/engine/training.py:3000: UserWarning: You are saving your model as an HDF5 file via `model.save()`. This file format is considered legacy. We recommend using instead the native Keras format, e.g. `model.save('my_model.keras')`.\n",
            "  saving_api.save_model(\n"
          ]
        }
      ],
      "source": [
        "model.save(\"/content/drive/MyDrive/Research/Shared Task/Violence Inciting Text Detection (VITD) Bangla/notebooks/Tariq/final/nafi/LSTMcbow.h5\")  # Save the model in an h5 format"
      ]
    },
    {
      "cell_type": "code",
      "source": [],
      "metadata": {
        "id": "_YOQ-0iUOXQm"
      },
      "execution_count": null,
      "outputs": []
    }
  ],
  "metadata": {
    "accelerator": "GPU",
    "colab": {
      "provenance": [],
      "include_colab_link": true
    },
    "kernelspec": {
      "display_name": "Python 3",
      "name": "python3"
    },
    "language_info": {
      "name": "python"
    }
  },
  "nbformat": 4,
  "nbformat_minor": 0
}