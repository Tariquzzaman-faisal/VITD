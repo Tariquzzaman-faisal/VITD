{
 "cells": [
  {
   "cell_type": "markdown",
   "source": [
    "# Check working directory"
   ],
   "metadata": {
    "collapsed": false
   }
  },
  {
   "cell_type": "code",
   "execution_count": 11,
   "metadata": {
    "collapsed": true,
    "ExecuteTime": {
     "end_time": "2023-08-03T08:23:41.155406Z",
     "start_time": "2023-08-03T08:23:41.130333Z"
    }
   },
   "outputs": [
    {
     "name": "stdout",
     "output_type": "stream",
     "text": [
      "/Users/tariq/Documents/Research/VITD_bn\n"
     ]
    }
   ],
   "source": [
    "import os\n",
    "# Get the current working directory\n",
    "current_directory = os.getcwd()\n",
    "# Print the current working directory\n",
    "print(current_directory)"
   ]
  },
  {
   "cell_type": "markdown",
   "source": [
    "# Load dataset"
   ],
   "metadata": {
    "collapsed": false
   }
  },
  {
   "cell_type": "code",
   "execution_count": 12,
   "outputs": [],
   "source": [
    "import pandas as pd"
   ],
   "metadata": {
    "collapsed": false,
    "ExecuteTime": {
     "end_time": "2023-08-03T08:23:46.879597Z",
     "start_time": "2023-08-03T08:23:41.141569Z"
    }
   }
  },
  {
   "cell_type": "code",
   "execution_count": 13,
   "outputs": [],
   "source": [
    "file_path = \"dataset/data.csv\"\n",
    "df = pd.read_csv(file_path)"
   ],
   "metadata": {
    "collapsed": false,
    "ExecuteTime": {
     "end_time": "2023-08-03T08:23:46.900945Z",
     "start_time": "2023-08-03T08:23:46.880737Z"
    }
   }
  },
  {
   "cell_type": "code",
   "execution_count": 14,
   "outputs": [
    {
     "data": {
      "text/plain": "                                                text         label  target\n0  বৌদির দুধ দেকে তো আমার ই চোখ ঠিক ছিলো না - পোল...      Personal       0\n1  এই সরকার কে যারা নির্লজ্জের মত সাপোর্ট দিয়েছে ...     Political       1\n2  পিলখানা হত্যাকান্ড বাংলাদেশের প্রতিরক্ষা ব্যবস...  Geopolitical       3\n3  ভারতের অর্থনীতি নিয়ে আপনাদের ভাবতে হবে না। ভা...  Geopolitical       3\n4            খানকির পুলা মালায়নদের মেরে সাফা করে ফেল      Personal       0",
      "text/html": "<div>\n<style scoped>\n    .dataframe tbody tr th:only-of-type {\n        vertical-align: middle;\n    }\n\n    .dataframe tbody tr th {\n        vertical-align: top;\n    }\n\n    .dataframe thead th {\n        text-align: right;\n    }\n</style>\n<table border=\"1\" class=\"dataframe\">\n  <thead>\n    <tr style=\"text-align: right;\">\n      <th></th>\n      <th>text</th>\n      <th>label</th>\n      <th>target</th>\n    </tr>\n  </thead>\n  <tbody>\n    <tr>\n      <th>0</th>\n      <td>বৌদির দুধ দেকে তো আমার ই চোখ ঠিক ছিলো না - পোল...</td>\n      <td>Personal</td>\n      <td>0</td>\n    </tr>\n    <tr>\n      <th>1</th>\n      <td>এই সরকার কে যারা নির্লজ্জের মত সাপোর্ট দিয়েছে ...</td>\n      <td>Political</td>\n      <td>1</td>\n    </tr>\n    <tr>\n      <th>2</th>\n      <td>পিলখানা হত্যাকান্ড বাংলাদেশের প্রতিরক্ষা ব্যবস...</td>\n      <td>Geopolitical</td>\n      <td>3</td>\n    </tr>\n    <tr>\n      <th>3</th>\n      <td>ভারতের অর্থনীতি নিয়ে আপনাদের ভাবতে হবে না। ভা...</td>\n      <td>Geopolitical</td>\n      <td>3</td>\n    </tr>\n    <tr>\n      <th>4</th>\n      <td>খানকির পুলা মালায়নদের মেরে সাফা করে ফেল</td>\n      <td>Personal</td>\n      <td>0</td>\n    </tr>\n  </tbody>\n</table>\n</div>"
     },
     "execution_count": 14,
     "metadata": {},
     "output_type": "execute_result"
    }
   ],
   "source": [
    "df.head()"
   ],
   "metadata": {
    "collapsed": false,
    "ExecuteTime": {
     "end_time": "2023-08-03T08:23:46.910720Z",
     "start_time": "2023-08-03T08:23:46.904587Z"
    }
   }
  },
  {
   "cell_type": "code",
   "execution_count": 15,
   "outputs": [
    {
     "name": "stdout",
     "output_type": "stream",
     "text": [
      "<class 'pandas.core.frame.DataFrame'>\n",
      "RangeIndex: 5698 entries, 0 to 5697\n",
      "Data columns (total 3 columns):\n",
      " #   Column  Non-Null Count  Dtype \n",
      "---  ------  --------------  ----- \n",
      " 0   text    5698 non-null   object\n",
      " 1   label   5698 non-null   object\n",
      " 2   target  5698 non-null   int64 \n",
      "dtypes: int64(1), object(2)\n",
      "memory usage: 133.7+ KB\n"
     ]
    }
   ],
   "source": [
    "df.info()"
   ],
   "metadata": {
    "collapsed": false,
    "ExecuteTime": {
     "end_time": "2023-08-03T08:23:46.915414Z",
     "start_time": "2023-08-03T08:23:46.912988Z"
    }
   }
  },
  {
   "cell_type": "code",
   "execution_count": 16,
   "outputs": [
    {
     "data": {
      "text/plain": "label\nPersonal        2189\nGeopolitical    1738\nReligious        957\nPolitical        814\nName: count, dtype: int64"
     },
     "execution_count": 16,
     "metadata": {},
     "output_type": "execute_result"
    }
   ],
   "source": [
    "df.label.value_counts()"
   ],
   "metadata": {
    "collapsed": false,
    "ExecuteTime": {
     "end_time": "2023-08-03T08:23:46.922102Z",
     "start_time": "2023-08-03T08:23:46.918407Z"
    }
   }
  },
  {
   "cell_type": "markdown",
   "source": [
    "# Splitting Dataset"
   ],
   "metadata": {
    "collapsed": false
   }
  },
  {
   "cell_type": "code",
   "execution_count": 19,
   "outputs": [],
   "source": [
    "from sklearn.model_selection import train_test_split"
   ],
   "metadata": {
    "collapsed": false,
    "ExecuteTime": {
     "end_time": "2023-08-03T08:23:51.931137Z",
     "start_time": "2023-08-03T08:23:51.868871Z"
    }
   }
  },
  {
   "cell_type": "code",
   "execution_count": 56,
   "outputs": [],
   "source": [
    "x_train, x_test, y_train, y_test = train_test_split(df.text, df.target, test_size=0.2, random_state=42)"
   ],
   "metadata": {
    "collapsed": false,
    "ExecuteTime": {
     "end_time": "2023-08-03T08:58:07.781764Z",
     "start_time": "2023-08-03T08:58:07.770817Z"
    }
   }
  },
  {
   "cell_type": "code",
   "execution_count": 57,
   "outputs": [
    {
     "data": {
      "text/plain": "((4558,), (1140,), (4558,), (1140,))"
     },
     "execution_count": 57,
     "metadata": {},
     "output_type": "execute_result"
    }
   ],
   "source": [
    "x_train.shape, x_test.shape, y_train.shape, y_test.shape"
   ],
   "metadata": {
    "collapsed": false,
    "ExecuteTime": {
     "end_time": "2023-08-03T08:58:08.798720Z",
     "start_time": "2023-08-03T08:58:08.791803Z"
    }
   }
  },
  {
   "cell_type": "code",
   "execution_count": 58,
   "outputs": [],
   "source": [
    "df['data_type'] = ['not_set']*df.shape[0]"
   ],
   "metadata": {
    "collapsed": false,
    "ExecuteTime": {
     "end_time": "2023-08-03T08:58:09.545788Z",
     "start_time": "2023-08-03T08:58:09.539321Z"
    }
   }
  },
  {
   "cell_type": "code",
   "execution_count": 59,
   "outputs": [
    {
     "data": {
      "text/plain": "                                                text         label  target  \\\n0  বৌদির দুধ দেকে তো আমার ই চোখ ঠিক ছিলো না - পোল...      Personal       0   \n1  এই সরকার কে যারা নির্লজ্জের মত সাপোর্ট দিয়েছে ...     Political       1   \n2  পিলখানা হত্যাকান্ড বাংলাদেশের প্রতিরক্ষা ব্যবস...  Geopolitical       3   \n3  ভারতের অর্থনীতি নিয়ে আপনাদের ভাবতে হবে না। ভা...  Geopolitical       3   \n4            খানকির পুলা মালায়নদের মেরে সাফা করে ফেল      Personal       0   \n\n  data_type  \n0   not_set  \n1   not_set  \n2   not_set  \n3   not_set  \n4   not_set  ",
      "text/html": "<div>\n<style scoped>\n    .dataframe tbody tr th:only-of-type {\n        vertical-align: middle;\n    }\n\n    .dataframe tbody tr th {\n        vertical-align: top;\n    }\n\n    .dataframe thead th {\n        text-align: right;\n    }\n</style>\n<table border=\"1\" class=\"dataframe\">\n  <thead>\n    <tr style=\"text-align: right;\">\n      <th></th>\n      <th>text</th>\n      <th>label</th>\n      <th>target</th>\n      <th>data_type</th>\n    </tr>\n  </thead>\n  <tbody>\n    <tr>\n      <th>0</th>\n      <td>বৌদির দুধ দেকে তো আমার ই চোখ ঠিক ছিলো না - পোল...</td>\n      <td>Personal</td>\n      <td>0</td>\n      <td>not_set</td>\n    </tr>\n    <tr>\n      <th>1</th>\n      <td>এই সরকার কে যারা নির্লজ্জের মত সাপোর্ট দিয়েছে ...</td>\n      <td>Political</td>\n      <td>1</td>\n      <td>not_set</td>\n    </tr>\n    <tr>\n      <th>2</th>\n      <td>পিলখানা হত্যাকান্ড বাংলাদেশের প্রতিরক্ষা ব্যবস...</td>\n      <td>Geopolitical</td>\n      <td>3</td>\n      <td>not_set</td>\n    </tr>\n    <tr>\n      <th>3</th>\n      <td>ভারতের অর্থনীতি নিয়ে আপনাদের ভাবতে হবে না। ভা...</td>\n      <td>Geopolitical</td>\n      <td>3</td>\n      <td>not_set</td>\n    </tr>\n    <tr>\n      <th>4</th>\n      <td>খানকির পুলা মালায়নদের মেরে সাফা করে ফেল</td>\n      <td>Personal</td>\n      <td>0</td>\n      <td>not_set</td>\n    </tr>\n  </tbody>\n</table>\n</div>"
     },
     "execution_count": 59,
     "metadata": {},
     "output_type": "execute_result"
    }
   ],
   "source": [
    "df.head()"
   ],
   "metadata": {
    "collapsed": false,
    "ExecuteTime": {
     "end_time": "2023-08-03T08:58:10.632849Z",
     "start_time": "2023-08-03T08:58:10.595171Z"
    }
   }
  },
  {
   "cell_type": "code",
   "execution_count": 60,
   "outputs": [],
   "source": [
    "df.loc[x_train.index, 'data_type'] = 'train'\n",
    "df.loc[x_test.index, 'data_type'] = 'test'"
   ],
   "metadata": {
    "collapsed": false,
    "ExecuteTime": {
     "end_time": "2023-08-03T08:58:11.436360Z",
     "start_time": "2023-08-03T08:58:11.425557Z"
    }
   }
  },
  {
   "cell_type": "code",
   "execution_count": 61,
   "outputs": [
    {
     "data": {
      "text/plain": "                                                   text         label  target  \\\n2930  ছাত্রসমাজের মূল্যবান ভোট, স্বৈরাচারের বিপক্ষে হোক  Geopolitical       3   \n2550                 কম জলের মাছ বেশি জল পেলে এরকম করে       Personal       0   \n982   তুমি লিখে যা ও বোন। কত্ত রেফারেন্স লাগবে ইনবক্...     Political       1   \n609                   একেই বলে মালাউন মারকা কথা বার্তা।     Religious       2   \n4817   জাতির জনক বেচে থাকলে তোদের মত বাইনচো দের সব ল...     Political       1   \n4317            দুধ বড় হচ্ছে না? আমার সাথে যোগাযোগ করুন      Personal       0   \n2412  ভাই আপনি একটি শিক্ষিত মানুষের সঙ্গে আলোচনা করব...     Religious       2   \n5576         দুর কুত্তার বাচ্চা নাস্তিকের ঘরের নাস্তিক      Religious       2   \n1799  ইহা কৃতজ্ঞতা নহে ইহা হইতেছে রেন্ডিয়ার প্রতি অা...  Geopolitical       3   \n1278  ভারতে প্রায় হাজারের কাছাকাছি রোহিঙ্গা রয়েছেন...  Geopolitical       3   \n1249  তোর যদি হেডামে কুলাই তাইলে একটা ভুল প্রমাণ কইর...     Religious       2   \n229              সংসদ সদস্যদের  ৮০% মূর্খ আর সন্ত্রাসী      Political       1   \n2085  ভারতে আর কি সিরিয়াল দেখাবে মানুশ দেরভারত পুরা ...  Geopolitical       3   \n2667         এই 2ই মাগির ভুধার খাইজ উটছে সবাই চুদে দাউ       Personal       0   \n3554  মুসলিমদের মাথা আর গরুর মাথার মধ্যে খুব একটা পা...     Religious       2   \n5415  ভারতীয় সেনাবাহিনী বাংলাদেশে বিভিন্ত অপারেশন পর...  Geopolitical       3   \n463           গুমহারাম এই মালাউন গরুর বাচ্চা বাংলাদেশে      Religious       2   \n5531  অবশ্যই এর বিচার চাই মুসলিম হয়ে ওই মহিলা নাস্তি...      Personal       0   \n4433   বেমন্মা এডমিন মকবুল তোর মার সাথে প্রথম রাজাকা...     Political       1   \n5659  একটা জিনিস বুঝলাম না,চোর,গুন্ডা,সন্ত্রাস,ধর্ষক...     Political       1   \n5401  ইনড়িয়া মুসলিম রাষ্ট ছিল থাকরে-- জারা ইয়াহুদি ক...     Religious       2   \n583   সাব্বাস রানু মন্ডল, অতীত মনে রাখিস না, উকুনের ...      Personal       0   \n4410  আমাদের দেয়ের ইউটিউবার গুলো কি পাগোল না ছাগল। এ...      Personal       0   \n3869  সাকিব-আল-হাসান কে দিয়ে মন্দির উদ্বোধনের খুশিত...     Religious       2   \n5237  আমাদের দেশে কিছু রেন্ডিয়ান বেজন্মা আছে। যাদের ...  Geopolitical       3   \n2539  মেধাবী হলেও জামায়াত-শিবির সরকারি চাকরি পাবে না...  Geopolitical       3   \n184       এই ডানডি খানকি মাগিরে ওলংগো করে পিটানের দরকার      Personal       0   \n153                        মাগি ডা অনেক সেক্সি হয়ে গেছে      Personal       0   \n1483    মেয়েরা চুদার পাগল মাগির বাচ্ছা চিনাল বেডির পুরি      Personal       0   \n3776  ফাসিঁ দিছে ঠিক করছে রাজাকারের বাযলার মাটিতে বে...     Political       1   \n\n     data_type  \n2930     train  \n2550      test  \n982      train  \n609      train  \n4817     train  \n4317      test  \n2412      test  \n5576     train  \n1799     train  \n1278     train  \n1249     train  \n229      train  \n2085     train  \n2667     train  \n3554     train  \n5415     train  \n463      train  \n5531      test  \n4433     train  \n5659     train  \n5401     train  \n583      train  \n4410     train  \n3869     train  \n5237     train  \n2539     train  \n184      train  \n153      train  \n1483      test  \n3776     train  ",
      "text/html": "<div>\n<style scoped>\n    .dataframe tbody tr th:only-of-type {\n        vertical-align: middle;\n    }\n\n    .dataframe tbody tr th {\n        vertical-align: top;\n    }\n\n    .dataframe thead th {\n        text-align: right;\n    }\n</style>\n<table border=\"1\" class=\"dataframe\">\n  <thead>\n    <tr style=\"text-align: right;\">\n      <th></th>\n      <th>text</th>\n      <th>label</th>\n      <th>target</th>\n      <th>data_type</th>\n    </tr>\n  </thead>\n  <tbody>\n    <tr>\n      <th>2930</th>\n      <td>ছাত্রসমাজের মূল্যবান ভোট, স্বৈরাচারের বিপক্ষে হোক</td>\n      <td>Geopolitical</td>\n      <td>3</td>\n      <td>train</td>\n    </tr>\n    <tr>\n      <th>2550</th>\n      <td>কম জলের মাছ বেশি জল পেলে এরকম করে</td>\n      <td>Personal</td>\n      <td>0</td>\n      <td>test</td>\n    </tr>\n    <tr>\n      <th>982</th>\n      <td>তুমি লিখে যা ও বোন। কত্ত রেফারেন্স লাগবে ইনবক্...</td>\n      <td>Political</td>\n      <td>1</td>\n      <td>train</td>\n    </tr>\n    <tr>\n      <th>609</th>\n      <td>একেই বলে মালাউন মারকা কথা বার্তা।</td>\n      <td>Religious</td>\n      <td>2</td>\n      <td>train</td>\n    </tr>\n    <tr>\n      <th>4817</th>\n      <td>জাতির জনক বেচে থাকলে তোদের মত বাইনচো দের সব ল...</td>\n      <td>Political</td>\n      <td>1</td>\n      <td>train</td>\n    </tr>\n    <tr>\n      <th>4317</th>\n      <td>দুধ বড় হচ্ছে না? আমার সাথে যোগাযোগ করুন</td>\n      <td>Personal</td>\n      <td>0</td>\n      <td>test</td>\n    </tr>\n    <tr>\n      <th>2412</th>\n      <td>ভাই আপনি একটি শিক্ষিত মানুষের সঙ্গে আলোচনা করব...</td>\n      <td>Religious</td>\n      <td>2</td>\n      <td>test</td>\n    </tr>\n    <tr>\n      <th>5576</th>\n      <td>দুর কুত্তার বাচ্চা নাস্তিকের ঘরের নাস্তিক</td>\n      <td>Religious</td>\n      <td>2</td>\n      <td>train</td>\n    </tr>\n    <tr>\n      <th>1799</th>\n      <td>ইহা কৃতজ্ঞতা নহে ইহা হইতেছে রেন্ডিয়ার প্রতি অা...</td>\n      <td>Geopolitical</td>\n      <td>3</td>\n      <td>train</td>\n    </tr>\n    <tr>\n      <th>1278</th>\n      <td>ভারতে প্রায় হাজারের কাছাকাছি রোহিঙ্গা রয়েছেন...</td>\n      <td>Geopolitical</td>\n      <td>3</td>\n      <td>train</td>\n    </tr>\n    <tr>\n      <th>1249</th>\n      <td>তোর যদি হেডামে কুলাই তাইলে একটা ভুল প্রমাণ কইর...</td>\n      <td>Religious</td>\n      <td>2</td>\n      <td>train</td>\n    </tr>\n    <tr>\n      <th>229</th>\n      <td>সংসদ সদস্যদের  ৮০% মূর্খ আর সন্ত্রাসী</td>\n      <td>Political</td>\n      <td>1</td>\n      <td>train</td>\n    </tr>\n    <tr>\n      <th>2085</th>\n      <td>ভারতে আর কি সিরিয়াল দেখাবে মানুশ দেরভারত পুরা ...</td>\n      <td>Geopolitical</td>\n      <td>3</td>\n      <td>train</td>\n    </tr>\n    <tr>\n      <th>2667</th>\n      <td>এই 2ই মাগির ভুধার খাইজ উটছে সবাই চুদে দাউ</td>\n      <td>Personal</td>\n      <td>0</td>\n      <td>train</td>\n    </tr>\n    <tr>\n      <th>3554</th>\n      <td>মুসলিমদের মাথা আর গরুর মাথার মধ্যে খুব একটা পা...</td>\n      <td>Religious</td>\n      <td>2</td>\n      <td>train</td>\n    </tr>\n    <tr>\n      <th>5415</th>\n      <td>ভারতীয় সেনাবাহিনী বাংলাদেশে বিভিন্ত অপারেশন পর...</td>\n      <td>Geopolitical</td>\n      <td>3</td>\n      <td>train</td>\n    </tr>\n    <tr>\n      <th>463</th>\n      <td>গুমহারাম এই মালাউন গরুর বাচ্চা বাংলাদেশে</td>\n      <td>Religious</td>\n      <td>2</td>\n      <td>train</td>\n    </tr>\n    <tr>\n      <th>5531</th>\n      <td>অবশ্যই এর বিচার চাই মুসলিম হয়ে ওই মহিলা নাস্তি...</td>\n      <td>Personal</td>\n      <td>0</td>\n      <td>test</td>\n    </tr>\n    <tr>\n      <th>4433</th>\n      <td>বেমন্মা এডমিন মকবুল তোর মার সাথে প্রথম রাজাকা...</td>\n      <td>Political</td>\n      <td>1</td>\n      <td>train</td>\n    </tr>\n    <tr>\n      <th>5659</th>\n      <td>একটা জিনিস বুঝলাম না,চোর,গুন্ডা,সন্ত্রাস,ধর্ষক...</td>\n      <td>Political</td>\n      <td>1</td>\n      <td>train</td>\n    </tr>\n    <tr>\n      <th>5401</th>\n      <td>ইনড়িয়া মুসলিম রাষ্ট ছিল থাকরে-- জারা ইয়াহুদি ক...</td>\n      <td>Religious</td>\n      <td>2</td>\n      <td>train</td>\n    </tr>\n    <tr>\n      <th>583</th>\n      <td>সাব্বাস রানু মন্ডল, অতীত মনে রাখিস না, উকুনের ...</td>\n      <td>Personal</td>\n      <td>0</td>\n      <td>train</td>\n    </tr>\n    <tr>\n      <th>4410</th>\n      <td>আমাদের দেয়ের ইউটিউবার গুলো কি পাগোল না ছাগল। এ...</td>\n      <td>Personal</td>\n      <td>0</td>\n      <td>train</td>\n    </tr>\n    <tr>\n      <th>3869</th>\n      <td>সাকিব-আল-হাসান কে দিয়ে মন্দির উদ্বোধনের খুশিত...</td>\n      <td>Religious</td>\n      <td>2</td>\n      <td>train</td>\n    </tr>\n    <tr>\n      <th>5237</th>\n      <td>আমাদের দেশে কিছু রেন্ডিয়ান বেজন্মা আছে। যাদের ...</td>\n      <td>Geopolitical</td>\n      <td>3</td>\n      <td>train</td>\n    </tr>\n    <tr>\n      <th>2539</th>\n      <td>মেধাবী হলেও জামায়াত-শিবির সরকারি চাকরি পাবে না...</td>\n      <td>Geopolitical</td>\n      <td>3</td>\n      <td>train</td>\n    </tr>\n    <tr>\n      <th>184</th>\n      <td>এই ডানডি খানকি মাগিরে ওলংগো করে পিটানের দরকার</td>\n      <td>Personal</td>\n      <td>0</td>\n      <td>train</td>\n    </tr>\n    <tr>\n      <th>153</th>\n      <td>মাগি ডা অনেক সেক্সি হয়ে গেছে</td>\n      <td>Personal</td>\n      <td>0</td>\n      <td>train</td>\n    </tr>\n    <tr>\n      <th>1483</th>\n      <td>মেয়েরা চুদার পাগল মাগির বাচ্ছা চিনাল বেডির পুরি</td>\n      <td>Personal</td>\n      <td>0</td>\n      <td>test</td>\n    </tr>\n    <tr>\n      <th>3776</th>\n      <td>ফাসিঁ দিছে ঠিক করছে রাজাকারের বাযলার মাটিতে বে...</td>\n      <td>Political</td>\n      <td>1</td>\n      <td>train</td>\n    </tr>\n  </tbody>\n</table>\n</div>"
     },
     "execution_count": 61,
     "metadata": {},
     "output_type": "execute_result"
    }
   ],
   "source": [
    "df.sample(30)"
   ],
   "metadata": {
    "collapsed": false,
    "ExecuteTime": {
     "end_time": "2023-08-03T08:58:11.933006Z",
     "start_time": "2023-08-03T08:58:11.920561Z"
    }
   }
  },
  {
   "cell_type": "code",
   "execution_count": 62,
   "outputs": [
    {
     "data": {
      "text/plain": "                        text  target\nlabel        data_type              \nGeopolitical test        373     373\n             train      1365    1365\nPersonal     test        385     385\n             train      1804    1804\nPolitical    test        161     161\n             train       653     653\nReligious    test        221     221\n             train       736     736",
      "text/html": "<div>\n<style scoped>\n    .dataframe tbody tr th:only-of-type {\n        vertical-align: middle;\n    }\n\n    .dataframe tbody tr th {\n        vertical-align: top;\n    }\n\n    .dataframe thead th {\n        text-align: right;\n    }\n</style>\n<table border=\"1\" class=\"dataframe\">\n  <thead>\n    <tr style=\"text-align: right;\">\n      <th></th>\n      <th></th>\n      <th>text</th>\n      <th>target</th>\n    </tr>\n    <tr>\n      <th>label</th>\n      <th>data_type</th>\n      <th></th>\n      <th></th>\n    </tr>\n  </thead>\n  <tbody>\n    <tr>\n      <th rowspan=\"2\" valign=\"top\">Geopolitical</th>\n      <th>test</th>\n      <td>373</td>\n      <td>373</td>\n    </tr>\n    <tr>\n      <th>train</th>\n      <td>1365</td>\n      <td>1365</td>\n    </tr>\n    <tr>\n      <th rowspan=\"2\" valign=\"top\">Personal</th>\n      <th>test</th>\n      <td>385</td>\n      <td>385</td>\n    </tr>\n    <tr>\n      <th>train</th>\n      <td>1804</td>\n      <td>1804</td>\n    </tr>\n    <tr>\n      <th rowspan=\"2\" valign=\"top\">Political</th>\n      <th>test</th>\n      <td>161</td>\n      <td>161</td>\n    </tr>\n    <tr>\n      <th>train</th>\n      <td>653</td>\n      <td>653</td>\n    </tr>\n    <tr>\n      <th rowspan=\"2\" valign=\"top\">Religious</th>\n      <th>test</th>\n      <td>221</td>\n      <td>221</td>\n    </tr>\n    <tr>\n      <th>train</th>\n      <td>736</td>\n      <td>736</td>\n    </tr>\n  </tbody>\n</table>\n</div>"
     },
     "execution_count": 62,
     "metadata": {},
     "output_type": "execute_result"
    }
   ],
   "source": [
    "df.groupby(['label', 'data_type']).count()"
   ],
   "metadata": {
    "collapsed": false,
    "ExecuteTime": {
     "end_time": "2023-08-03T08:58:13.892653Z",
     "start_time": "2023-08-03T08:58:13.878505Z"
    }
   }
  },
  {
   "cell_type": "code",
   "execution_count": null,
   "outputs": [],
   "source": [],
   "metadata": {
    "collapsed": false
   }
  }
 ],
 "metadata": {
  "kernelspec": {
   "display_name": "Python 3",
   "language": "python",
   "name": "python3"
  },
  "language_info": {
   "codemirror_mode": {
    "name": "ipython",
    "version": 2
   },
   "file_extension": ".py",
   "mimetype": "text/x-python",
   "name": "python",
   "nbconvert_exporter": "python",
   "pygments_lexer": "ipython2",
   "version": "2.7.6"
  }
 },
 "nbformat": 4,
 "nbformat_minor": 0
}
